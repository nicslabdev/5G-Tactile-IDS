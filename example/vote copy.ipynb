{
 "cells": [
  {
   "cell_type": "markdown",
   "metadata": {},
   "source": [
    "# Data"
   ]
  },
  {
   "cell_type": "code",
   "execution_count": 17,
   "metadata": {},
   "outputs": [],
   "source": [
    "import pandas as pd\n",
    "import numpy as np\n",
    "import random\n",
    "\n",
    "def modificar_dataframe(df, pct_filas = 0.1, pct_cambio = 0.2):\n",
    "    # Número de filas y columnas del DataFrame\n",
    "    num_filas = len(df)\n",
    "    num_columnas = len(df.columns[1:-1]) # Para eliminar la primera y ultima columna (timestamp y label)\n",
    "    \n",
    "    # Seleccionar aleatoriamente el 10% de las filas\n",
    "    num_filas_modificar = int(num_filas * pct_filas)\n",
    "    filas_modificar = np.random.choice(df.index, size=num_filas_modificar, replace=False)\n",
    "    \n",
    "    # Seleccionar aleatoriamente un número de columnas (entre 1 y el número total de columnas)\n",
    "    num_columnas_modificar = np.random.randint(1, num_columnas + 1)\n",
    "    columnas_modificar = np.random.choice(df.columns[1:-1], size=num_columnas_modificar, replace=False)\n",
    "\n",
    "    # Modificar los valores de las filas y columnas seleccionadas en un 15%\n",
    "    for fila in filas_modificar:\n",
    "        for columna in columnas_modificar:\n",
    "            df.at[fila, columna] = int(df.at[fila, columna] * (1 + pct_cambio * random.uniform(1, 1.5)))\n",
    "            df.at[fila, 'label'] = 1\n",
    "\n",
    "    df.to_csv('tmp.csv')\n",
    "            \n",
    "    return df\n",
    "\n",
    "def vicomtech_data(pct_cambio, pct_filas = 0.05, columns = []):\n",
    "    dataframe = pd.read_csv('/home/nics/Repos/5G-Tactile-IDS/data/RecFile_1_20240712_095926_CAM_Generator_output_list.csv')\n",
    "    dataframe = dataframe.drop('Unnamed: 0', axis=1)\n",
    "    if len(columns) > 0:\n",
    "        columns = ['Timestamp (UNIX) '] + columns\n",
    "        dataframe = dataframe[columns]\n",
    "    dataframe['label'] = 0\n",
    "    # dataframe = dataframe.drop('Timestamp (UNIX) ', axis=1)\n",
    "\n",
    "    modificar_dataframe(dataframe, pct_filas=pct_filas, pct_cambio=pct_cambio)\n",
    "\n",
    "    return dataframe"
   ]
  },
  {
   "cell_type": "markdown",
   "metadata": {},
   "source": [
    "# Scoring"
   ]
  },
  {
   "cell_type": "code",
   "execution_count": 2,
   "metadata": {},
   "outputs": [],
   "source": [
    "from matplotlib import pyplot as plt\n",
    "from sklearn.metrics import confusion_matrix, ConfusionMatrixDisplay\n",
    "from sklearn.metrics import roc_auc_score\n",
    "\n",
    "def evaluate(Y, Y_pred):\n",
    "\n",
    "    roc_auc = roc_auc_score(Y, Y_pred)\n",
    "    print(f'ROC: {roc_auc}')\n",
    "\n",
    "    # Compute confusion matrix\n",
    "    cm = confusion_matrix(Y, Y_pred)\n",
    "    disp = ConfusionMatrixDisplay(confusion_matrix=cm)\n",
    "    disp.plot()\n",
    "    plt.show()"
   ]
  },
  {
   "cell_type": "markdown",
   "metadata": {},
   "source": [
    "# Classic Threshold"
   ]
  },
  {
   "cell_type": "code",
   "execution_count": 71,
   "metadata": {},
   "outputs": [],
   "source": [
    "import pandas as pd\n",
    "import numpy as np\n",
    "\n",
    "def run_classic_threshold(df):\n",
    "    idf = df\n",
    "\n",
    "    comparing_df = idf.shift(-1) / idf\n",
    "    comparing_df = comparing_df[:-1]\n",
    "\n",
    "    pred_anomalies = ((comparing_df > 1.1) | (comparing_df < 0.9)).any(axis=1).astype(int).values\n",
    "    pred_anomalies = np.append(pred_anomalies, [0])\n",
    "\n",
    "    return pred_anomalies"
   ]
  },
  {
   "cell_type": "markdown",
   "metadata": {},
   "source": [
    "# IForest"
   ]
  },
  {
   "cell_type": "code",
   "execution_count": 4,
   "metadata": {},
   "outputs": [],
   "source": [
    "import numpy as np\n",
    "import pandas as pd\n",
    "import matplotlib.pyplot as plt\n",
    "from sklearn.ensemble import IsolationForest\n",
    "\n",
    "def run_iforest(df):\n",
    "    idf = df\n",
    "    # Aplicar Isolation Forest\n",
    "    model = IsolationForest(contamination=0.03)  \n",
    "    idf['anomaly'] = model.fit_predict(idf)\n",
    "    \n",
    "    pred_labels = idf['anomaly'].apply(lambda x: 0 if x == 1 else 1)\n",
    "\n",
    "    return pred_labels.to_numpy()\n",
    "\n",
    "# evaluate(idf['label'], predictions_all['IForest'])"
   ]
  },
  {
   "cell_type": "markdown",
   "metadata": {},
   "source": [
    "# LOF"
   ]
  },
  {
   "cell_type": "code",
   "execution_count": 5,
   "metadata": {},
   "outputs": [],
   "source": [
    "import numpy as np\n",
    "import matplotlib.pyplot as plt\n",
    "from sklearn.neighbors import LocalOutlierFactor\n",
    "\n",
    "def run_LOF(df):\n",
    "    idf = df\n",
    "    # Ajustar el modelo LOF\n",
    "    model = LocalOutlierFactor(n_neighbors=20, contamination=0.03)\n",
    "    idf['anomaly_lof'] = model.fit_predict(idf)\n",
    "\n",
    "    pred_labels = idf['anomaly_lof'].apply(lambda x: 0 if x == 1 else 1)\n",
    "\n",
    "    return pred_labels.to_numpy()"
   ]
  },
  {
   "cell_type": "markdown",
   "metadata": {},
   "source": [
    "# Autoencoder 1"
   ]
  },
  {
   "cell_type": "code",
   "execution_count": 6,
   "metadata": {},
   "outputs": [
    {
     "name": "stderr",
     "output_type": "stream",
     "text": [
      "2024-08-28 10:28:43.257686: I tensorflow/core/util/port.cc:153] oneDNN custom operations are on. You may see slightly different numerical results due to floating-point round-off errors from different computation orders. To turn them off, set the environment variable `TF_ENABLE_ONEDNN_OPTS=0`.\n",
      "2024-08-28 10:28:43.278967: E external/local_xla/xla/stream_executor/cuda/cuda_fft.cc:485] Unable to register cuFFT factory: Attempting to register factory for plugin cuFFT when one has already been registered\n",
      "2024-08-28 10:28:43.302725: E external/local_xla/xla/stream_executor/cuda/cuda_dnn.cc:8454] Unable to register cuDNN factory: Attempting to register factory for plugin cuDNN when one has already been registered\n",
      "2024-08-28 10:28:43.309743: E external/local_xla/xla/stream_executor/cuda/cuda_blas.cc:1452] Unable to register cuBLAS factory: Attempting to register factory for plugin cuBLAS when one has already been registered\n",
      "2024-08-28 10:28:43.328107: I tensorflow/core/platform/cpu_feature_guard.cc:210] This TensorFlow binary is optimized to use available CPU instructions in performance-critical operations.\n",
      "To enable the following instructions: AVX2 AVX512F AVX512_VNNI FMA, in other operations, rebuild TensorFlow with the appropriate compiler flags.\n",
      "2024-08-28 10:28:45.246214: W tensorflow/compiler/tf2tensorrt/utils/py_utils.cc:38] TF-TRT Warning: Could not find TensorRT\n"
     ]
    }
   ],
   "source": [
    "import pandas as pd\n",
    "import numpy as np\n",
    "import tensorflow as tf\n",
    "from tensorflow import keras\n",
    "from tensorflow.keras import layers\n",
    "from tensorflow.keras.models import Model\n",
    "from pyod.utils.data import evaluate_print\n",
    "\n",
    "# Definir el modelo autoencoder multivariante\n",
    "def crear_autoencoder_multivariante(dim_entrada):\n",
    "    entrada = layers.Input(shape=(dim_entrada,))\n",
    "\n",
    "    # Encoder with batch normalization\n",
    "    codificador = layers.Dense(64, activation='relu')(entrada)\n",
    "    codificador = layers.BatchNormalization()(codificador)\n",
    "    codificador = layers.Dense(32, activation='relu')(codificador)\n",
    "    codificador = layers.BatchNormalization()(codificador)\n",
    "\n",
    "    # Decoder with batch normalization\n",
    "    decodificador = layers.Dense(32, activation='relu')(codificador)\n",
    "    decodificador = layers.BatchNormalization()(decodificador)\n",
    "    decodificador = layers.Dense(dim_entrada, activation='linear')(decodificador)\n",
    "\n",
    "    modelo = Model(entrada, decodificador)\n",
    "    modelo.compile(loss='mse', optimizer=keras.optimizers.Adam(learning_rate=0.0001))\n",
    "    return modelo\n",
    "\n",
    "\n",
    "def run_autoencoder_1(df):\n",
    "    data = df\n",
    "\n",
    "    columns = data.columns\n",
    "    serie_temporal_multivariable = data[columns]\n",
    "\n",
    "    # Normalizar la serie temporal multivariante\n",
    "    serie_normalizada = (serie_temporal_multivariable - serie_temporal_multivariable.mean()) / serie_temporal_multivariable.std()\n",
    "\n",
    "    # Crear el modelo autoencoder multivariante\n",
    "    dim_entrada = len(serie_normalizada.columns)\n",
    "    modelo_autoencoder_multivariante = crear_autoencoder_multivariante(dim_entrada)\n",
    "\n",
    "    # Entrenar el modelo autoencoder multivariante\n",
    "    historia = modelo_autoencoder_multivariante.fit(serie_normalizada.values, \n",
    "                                                serie_normalizada.values, \n",
    "                                                epochs=25, \n",
    "                                                batch_size=64,\n",
    "                                                verbose=0\n",
    "                                                )\n",
    "\n",
    "    # Umbral de reconstrucción\n",
    "    umbral = np.percentile(historia.history['loss'], 99)\n",
    "    print(f\"Error: {umbral}\")\n",
    "\n",
    "    # Predicción de la serie temporal normalizada\n",
    "    serie_reconstruida = modelo_autoencoder_multivariante.predict(serie_normalizada.values)\n",
    "\n",
    "    # Detección de anomalías\n",
    "    anomalias = serie_normalizada[np.linalg.norm(serie_normalizada.values - serie_reconstruida, axis=1) > umbral]\n",
    "\n",
    "    # Info\n",
    "    l1 = list(set(anomalias.index)) - anomalias.index[0]\n",
    "    labels_pred = np.zeros(len(data))\n",
    "    labels_pred[l1] = 1\n",
    "\n",
    "    return labels_pred"
   ]
  },
  {
   "cell_type": "markdown",
   "metadata": {},
   "source": [
    "# Autoencoder 2"
   ]
  },
  {
   "cell_type": "code",
   "execution_count": 7,
   "metadata": {},
   "outputs": [],
   "source": [
    "import pandas as pd\n",
    "import numpy as np\n",
    "import tensorflow as tf\n",
    "from tensorflow import keras\n",
    "from tensorflow.keras import layers\n",
    "from tensorflow.keras.models import Model\n",
    "from pyod.utils.data import evaluate_print\n",
    "\n",
    "def crear_autoencoder_multivariante(dim_entrada):\n",
    "    entrada = layers.Input(shape=(dim_entrada,))\n",
    "\n",
    "    # Encoder with batch normalization and dropout\n",
    "    codificador = layers.Dense(128, activation='relu')(entrada)\n",
    "    codificador = layers.BatchNormalization()(codificador)\n",
    "    codificador = layers.Dropout(0.2)(codificador)\n",
    "    codificador = layers.Dense(64, activation='relu')(codificador)\n",
    "    codificador = layers.BatchNormalization()(codificador)\n",
    "    codificador = layers.Dense(32, activation='relu')(codificador)\n",
    "    codificador = layers.BatchNormalization()(codificador)\n",
    "\n",
    "    # Decoder with batch normalization and dropout\n",
    "    decodificador = layers.Dense(32, activation='relu')(codificador)\n",
    "    decodificador = layers.BatchNormalization()(decodificador)\n",
    "    decodificador = layers.Dropout(0.2)(decodificador)\n",
    "    decodificador = layers.Dense(64, activation='relu')(decodificador)\n",
    "    decodificador = layers.BatchNormalization()(decodificador)\n",
    "    decodificador = layers.Dense(128, activation='relu')(decodificador)\n",
    "    decodificador = layers.BatchNormalization()(decodificador)\n",
    "    decodificador = layers.Dense(dim_entrada, activation='linear')(decodificador)\n",
    "\n",
    "    modelo = Model(entrada, decodificador)\n",
    "    modelo.compile(loss='mse', optimizer=tf.keras.optimizers.Adam(learning_rate=0.0001))\n",
    "    return modelo\n",
    "\n",
    "\n",
    "def run_autoencoder_2(df):\n",
    "    data = df\n",
    "\n",
    "    columns = data.columns\n",
    "    serie_temporal_multivariable = data[columns]\n",
    "\n",
    "    # Normalizar la serie temporal multivariante\n",
    "    serie_normalizada = (serie_temporal_multivariable - serie_temporal_multivariable.mean()) / serie_temporal_multivariable.std()\n",
    "    # Definir el modelo autoencoder multivariante\n",
    "\n",
    "    # Crear el modelo autoencoder multivariante\n",
    "    dim_entrada = len(serie_normalizada.columns)\n",
    "    modelo_autoencoder_multivariante = crear_autoencoder_multivariante(dim_entrada)\n",
    "\n",
    "    # Entrenar el modelo autoencoder multivariante\n",
    "    historia = modelo_autoencoder_multivariante.fit(serie_normalizada.values, \n",
    "                                                serie_normalizada.values, \n",
    "                                                epochs=25, \n",
    "                                                batch_size=64,\n",
    "                                                verbose=0\n",
    "                                                )\n",
    "\n",
    "    # Umbral de reconstrucción\n",
    "    umbral = np.percentile(historia.history['loss'], 99)\n",
    "    print(f\"Error: {umbral}\")\n",
    "\n",
    "    # Predicción de la serie temporal normalizada\n",
    "    serie_reconstruida = modelo_autoencoder_multivariante.predict(serie_normalizada.values)\n",
    "\n",
    "    # Detección de anomalías\n",
    "    anomalias = serie_normalizada[np.linalg.norm(serie_normalizada.values - serie_reconstruida, axis=1) > umbral]\n",
    "\n",
    "    # Info\n",
    "    labels_pred = np.zeros(len(data))\n",
    "    if len(anomalias > 0):\n",
    "        l1 = list(set(anomalias.index)) - anomalias.index[0]\n",
    "        labels_pred[l1] = 1\n",
    "\n",
    "    return labels_pred"
   ]
  },
  {
   "cell_type": "markdown",
   "metadata": {},
   "source": [
    "# Vote"
   ]
  },
  {
   "cell_type": "code",
   "execution_count": 8,
   "metadata": {},
   "outputs": [],
   "source": [
    "def majority_vote(predictions):\n",
    "    arrays = []\n",
    "    for p in predictions:\n",
    "        arrays.append(predictions[p])\n",
    "    # Stack the arrays along a new dimension\n",
    "    stacked_arrays = np.stack(arrays, axis=0)\n",
    "    \n",
    "    # Calculate the sum along the new dimension\n",
    "    sum_arrays = np.sum(stacked_arrays, axis=0)\n",
    "    \n",
    "    # Determine the majority vote (more than half of the arrays should have a 1)\n",
    "    majority_threshold = len(arrays) / 2\n",
    "    \n",
    "    # If the sum is greater than the threshold, the majority is 1, otherwise 0\n",
    "    majority_vote_result = (sum_arrays >= majority_threshold).astype(int)\n",
    "    \n",
    "    return majority_vote_result"
   ]
  },
  {
   "cell_type": "code",
   "execution_count": 10,
   "metadata": {},
   "outputs": [
    {
     "name": "stdout",
     "output_type": "stream",
     "text": [
      "Error: 3.5830581092834466\n",
      "\u001b[1m1/1\u001b[0m \u001b[32m━━━━━━━━━━━━━━━━━━━━\u001b[0m\u001b[37m\u001b[0m \u001b[1m0s\u001b[0m 200ms/step\n"
     ]
    },
    {
     "name": "stderr",
     "output_type": "stream",
     "text": [
      "/home/nics/.pyenv/versions/3.12.2/lib/python3.12/site-packages/sklearn/neighbors/_lof.py:283: UserWarning: n_neighbors (20) is greater than the total number of samples (5). n_neighbors will be set to (n_samples - 1) for estimation.\n",
      "  warnings.warn(\n"
     ]
    },
    {
     "name": "stdout",
     "output_type": "stream",
     "text": [
      "Error: 4.5012649917602525\n",
      "\u001b[1m1/1\u001b[0m \u001b[32m━━━━━━━━━━━━━━━━━━━━\u001b[0m\u001b[37m\u001b[0m \u001b[1m0s\u001b[0m 201ms/step\n"
     ]
    },
    {
     "name": "stderr",
     "output_type": "stream",
     "text": [
      "/home/nics/.pyenv/versions/3.12.2/lib/python3.12/site-packages/sklearn/neighbors/_lof.py:283: UserWarning: n_neighbors (20) is greater than the total number of samples (5). n_neighbors will be set to (n_samples - 1) for estimation.\n",
      "  warnings.warn(\n"
     ]
    },
    {
     "name": "stdout",
     "output_type": "stream",
     "text": [
      "Error: 3.2798143386840817\n",
      "\u001b[1m1/1\u001b[0m \u001b[32m━━━━━━━━━━━━━━━━━━━━\u001b[0m\u001b[37m\u001b[0m \u001b[1m0s\u001b[0m 204ms/step\n"
     ]
    },
    {
     "name": "stderr",
     "output_type": "stream",
     "text": [
      "/home/nics/.pyenv/versions/3.12.2/lib/python3.12/site-packages/sklearn/neighbors/_lof.py:283: UserWarning: n_neighbors (20) is greater than the total number of samples (5). n_neighbors will be set to (n_samples - 1) for estimation.\n",
      "  warnings.warn(\n"
     ]
    },
    {
     "name": "stdout",
     "output_type": "stream",
     "text": [
      "Error: 3.3709198284149164\n",
      "\u001b[1m1/1\u001b[0m \u001b[32m━━━━━━━━━━━━━━━━━━━━\u001b[0m\u001b[37m\u001b[0m \u001b[1m0s\u001b[0m 193ms/step\n"
     ]
    },
    {
     "name": "stderr",
     "output_type": "stream",
     "text": [
      "/home/nics/.pyenv/versions/3.12.2/lib/python3.12/site-packages/sklearn/neighbors/_lof.py:283: UserWarning: n_neighbors (20) is greater than the total number of samples (5). n_neighbors will be set to (n_samples - 1) for estimation.\n",
      "  warnings.warn(\n"
     ]
    },
    {
     "name": "stdout",
     "output_type": "stream",
     "text": [
      "Error: 4.15445514678955\n",
      "\u001b[1m1/1\u001b[0m \u001b[32m━━━━━━━━━━━━━━━━━━━━\u001b[0m\u001b[37m\u001b[0m \u001b[1m0s\u001b[0m 201ms/step\n"
     ]
    },
    {
     "name": "stderr",
     "output_type": "stream",
     "text": [
      "/home/nics/.pyenv/versions/3.12.2/lib/python3.12/site-packages/sklearn/neighbors/_lof.py:283: UserWarning: n_neighbors (20) is greater than the total number of samples (5). n_neighbors will be set to (n_samples - 1) for estimation.\n",
      "  warnings.warn(\n"
     ]
    },
    {
     "name": "stdout",
     "output_type": "stream",
     "text": [
      "Error: 3.6607108116149902\n",
      "\u001b[1m1/1\u001b[0m \u001b[32m━━━━━━━━━━━━━━━━━━━━\u001b[0m\u001b[37m\u001b[0m \u001b[1m0s\u001b[0m 197ms/step\n"
     ]
    },
    {
     "name": "stderr",
     "output_type": "stream",
     "text": [
      "/home/nics/.pyenv/versions/3.12.2/lib/python3.12/site-packages/sklearn/neighbors/_lof.py:283: UserWarning: n_neighbors (20) is greater than the total number of samples (5). n_neighbors will be set to (n_samples - 1) for estimation.\n",
      "  warnings.warn(\n"
     ]
    },
    {
     "name": "stdout",
     "output_type": "stream",
     "text": [
      "Error: nan\n",
      "\u001b[1m1/1\u001b[0m \u001b[32m━━━━━━━━━━━━━━━━━━━━\u001b[0m\u001b[37m\u001b[0m \u001b[1m0s\u001b[0m 297ms/step\n"
     ]
    },
    {
     "name": "stderr",
     "output_type": "stream",
     "text": [
      "/home/nics/.pyenv/versions/3.12.2/lib/python3.12/site-packages/sklearn/neighbors/_lof.py:283: UserWarning: n_neighbors (20) is greater than the total number of samples (5). n_neighbors will be set to (n_samples - 1) for estimation.\n",
      "  warnings.warn(\n"
     ]
    },
    {
     "name": "stdout",
     "output_type": "stream",
     "text": [
      "Error: 3.511674432754516\n",
      "\u001b[1m1/1\u001b[0m \u001b[32m━━━━━━━━━━━━━━━━━━━━\u001b[0m\u001b[37m\u001b[0m \u001b[1m0s\u001b[0m 229ms/step\n"
     ]
    },
    {
     "name": "stderr",
     "output_type": "stream",
     "text": [
      "/home/nics/.pyenv/versions/3.12.2/lib/python3.12/site-packages/sklearn/neighbors/_lof.py:283: UserWarning: n_neighbors (20) is greater than the total number of samples (5). n_neighbors will be set to (n_samples - 1) for estimation.\n",
      "  warnings.warn(\n"
     ]
    },
    {
     "name": "stdout",
     "output_type": "stream",
     "text": [
      "Error: 4.374926605224608\n",
      "\u001b[1m1/1\u001b[0m \u001b[32m━━━━━━━━━━━━━━━━━━━━\u001b[0m\u001b[37m\u001b[0m \u001b[1m0s\u001b[0m 200ms/step\n"
     ]
    },
    {
     "name": "stderr",
     "output_type": "stream",
     "text": [
      "/home/nics/.pyenv/versions/3.12.2/lib/python3.12/site-packages/sklearn/neighbors/_lof.py:283: UserWarning: n_neighbors (20) is greater than the total number of samples (5). n_neighbors will be set to (n_samples - 1) for estimation.\n",
      "  warnings.warn(\n"
     ]
    },
    {
     "name": "stdout",
     "output_type": "stream",
     "text": [
      "Error: 3.5652680969238277\n",
      "\u001b[1m1/1\u001b[0m \u001b[32m━━━━━━━━━━━━━━━━━━━━\u001b[0m\u001b[37m\u001b[0m \u001b[1m0s\u001b[0m 205ms/step\n"
     ]
    },
    {
     "name": "stderr",
     "output_type": "stream",
     "text": [
      "/home/nics/.pyenv/versions/3.12.2/lib/python3.12/site-packages/sklearn/neighbors/_lof.py:283: UserWarning: n_neighbors (20) is greater than the total number of samples (5). n_neighbors will be set to (n_samples - 1) for estimation.\n",
      "  warnings.warn(\n"
     ]
    },
    {
     "name": "stdout",
     "output_type": "stream",
     "text": [
      "Error: 3.233587703704833\n",
      "\u001b[1m1/1\u001b[0m \u001b[32m━━━━━━━━━━━━━━━━━━━━\u001b[0m\u001b[37m\u001b[0m \u001b[1m0s\u001b[0m 305ms/step\n"
     ]
    },
    {
     "name": "stderr",
     "output_type": "stream",
     "text": [
      "/home/nics/.pyenv/versions/3.12.2/lib/python3.12/site-packages/sklearn/neighbors/_lof.py:283: UserWarning: n_neighbors (20) is greater than the total number of samples (5). n_neighbors will be set to (n_samples - 1) for estimation.\n",
      "  warnings.warn(\n"
     ]
    },
    {
     "name": "stdout",
     "output_type": "stream",
     "text": [
      "Error: 3.107002077102661\n",
      "\u001b[1m1/1\u001b[0m \u001b[32m━━━━━━━━━━━━━━━━━━━━\u001b[0m\u001b[37m\u001b[0m \u001b[1m0s\u001b[0m 210ms/step\n"
     ]
    },
    {
     "name": "stderr",
     "output_type": "stream",
     "text": [
      "/home/nics/.pyenv/versions/3.12.2/lib/python3.12/site-packages/sklearn/neighbors/_lof.py:283: UserWarning: n_neighbors (20) is greater than the total number of samples (5). n_neighbors will be set to (n_samples - 1) for estimation.\n",
      "  warnings.warn(\n"
     ]
    },
    {
     "name": "stdout",
     "output_type": "stream",
     "text": [
      "Error: 3.212333011627196\n",
      "\u001b[1m1/1\u001b[0m \u001b[32m━━━━━━━━━━━━━━━━━━━━\u001b[0m\u001b[37m\u001b[0m \u001b[1m0s\u001b[0m 209ms/step\n"
     ]
    },
    {
     "name": "stderr",
     "output_type": "stream",
     "text": [
      "/home/nics/.pyenv/versions/3.12.2/lib/python3.12/site-packages/sklearn/neighbors/_lof.py:283: UserWarning: n_neighbors (20) is greater than the total number of samples (5). n_neighbors will be set to (n_samples - 1) for estimation.\n",
      "  warnings.warn(\n"
     ]
    },
    {
     "name": "stdout",
     "output_type": "stream",
     "text": [
      "Error: 2.803947048187256\n",
      "\u001b[1m1/1\u001b[0m \u001b[32m━━━━━━━━━━━━━━━━━━━━\u001b[0m\u001b[37m\u001b[0m \u001b[1m0s\u001b[0m 203ms/step\n"
     ]
    },
    {
     "name": "stderr",
     "output_type": "stream",
     "text": [
      "/home/nics/.pyenv/versions/3.12.2/lib/python3.12/site-packages/sklearn/neighbors/_lof.py:283: UserWarning: n_neighbors (20) is greater than the total number of samples (5). n_neighbors will be set to (n_samples - 1) for estimation.\n",
      "  warnings.warn(\n"
     ]
    },
    {
     "name": "stdout",
     "output_type": "stream",
     "text": [
      "Error: 3.387465505599975\n",
      "\u001b[1m1/1\u001b[0m \u001b[32m━━━━━━━━━━━━━━━━━━━━\u001b[0m\u001b[37m\u001b[0m \u001b[1m0s\u001b[0m 221ms/step\n"
     ]
    },
    {
     "name": "stderr",
     "output_type": "stream",
     "text": [
      "/home/nics/.pyenv/versions/3.12.2/lib/python3.12/site-packages/sklearn/neighbors/_lof.py:283: UserWarning: n_neighbors (20) is greater than the total number of samples (5). n_neighbors will be set to (n_samples - 1) for estimation.\n",
      "  warnings.warn(\n"
     ]
    },
    {
     "name": "stdout",
     "output_type": "stream",
     "text": [
      "Error: 3.3402123641967765\n",
      "\u001b[1m1/1\u001b[0m \u001b[32m━━━━━━━━━━━━━━━━━━━━\u001b[0m\u001b[37m\u001b[0m \u001b[1m2s\u001b[0m 2s/step\n"
     ]
    },
    {
     "name": "stderr",
     "output_type": "stream",
     "text": [
      "/home/nics/.pyenv/versions/3.12.2/lib/python3.12/site-packages/sklearn/neighbors/_lof.py:283: UserWarning: n_neighbors (20) is greater than the total number of samples (5). n_neighbors will be set to (n_samples - 1) for estimation.\n",
      "  warnings.warn(\n"
     ]
    },
    {
     "name": "stdout",
     "output_type": "stream",
     "text": [
      "Error: 3.8015758991241446\n",
      "\u001b[1m1/1\u001b[0m \u001b[32m━━━━━━━━━━━━━━━━━━━━\u001b[0m\u001b[37m\u001b[0m \u001b[1m0s\u001b[0m 247ms/step\n"
     ]
    },
    {
     "name": "stderr",
     "output_type": "stream",
     "text": [
      "/home/nics/.pyenv/versions/3.12.2/lib/python3.12/site-packages/sklearn/neighbors/_lof.py:283: UserWarning: n_neighbors (20) is greater than the total number of samples (5). n_neighbors will be set to (n_samples - 1) for estimation.\n",
      "  warnings.warn(\n"
     ]
    },
    {
     "name": "stdout",
     "output_type": "stream",
     "text": [
      "Error: 3.988077716827392\n",
      "\u001b[1m1/1\u001b[0m \u001b[32m━━━━━━━━━━━━━━━━━━━━\u001b[0m\u001b[37m\u001b[0m \u001b[1m0s\u001b[0m 222ms/step\n"
     ]
    },
    {
     "name": "stderr",
     "output_type": "stream",
     "text": [
      "/home/nics/.pyenv/versions/3.12.2/lib/python3.12/site-packages/sklearn/neighbors/_lof.py:283: UserWarning: n_neighbors (20) is greater than the total number of samples (5). n_neighbors will be set to (n_samples - 1) for estimation.\n",
      "  warnings.warn(\n"
     ]
    },
    {
     "name": "stdout",
     "output_type": "stream",
     "text": [
      "Error: 3.1801237583160398\n",
      "\u001b[1m1/1\u001b[0m \u001b[32m━━━━━━━━━━━━━━━━━━━━\u001b[0m\u001b[37m\u001b[0m \u001b[1m0s\u001b[0m 204ms/step\n"
     ]
    },
    {
     "name": "stderr",
     "output_type": "stream",
     "text": [
      "/home/nics/.pyenv/versions/3.12.2/lib/python3.12/site-packages/sklearn/neighbors/_lof.py:283: UserWarning: n_neighbors (20) is greater than the total number of samples (5). n_neighbors will be set to (n_samples - 1) for estimation.\n",
      "  warnings.warn(\n"
     ]
    },
    {
     "name": "stdout",
     "output_type": "stream",
     "text": [
      "Error: 3.331615514755249\n",
      "\u001b[1m1/1\u001b[0m \u001b[32m━━━━━━━━━━━━━━━━━━━━\u001b[0m\u001b[37m\u001b[0m \u001b[1m0s\u001b[0m 207ms/step\n",
      "ROC: 0.6526315789473683\n"
     ]
    },
    {
     "name": "stderr",
     "output_type": "stream",
     "text": [
      "/home/nics/.pyenv/versions/3.12.2/lib/python3.12/site-packages/sklearn/neighbors/_lof.py:283: UserWarning: n_neighbors (20) is greater than the total number of samples (5). n_neighbors will be set to (n_samples - 1) for estimation.\n",
      "  warnings.warn(\n"
     ]
    },
    {
     "data": {
      "image/png": "[encoded data removed]",
      "text/plain": [
       "<Figure size 640x480 with 2 Axes>"
      ]
     },
     "metadata": {},
     "output_type": "display_data"
    }
   ],
   "source": [
    "df = vicomtech_data(pct_cambio = 2, pct_filas = 0.03)\n",
    "X = df.loc[:, df.columns != 'label']\n",
    "# X.drop(columns=['Longitudinal acceleration', 'Curvature value'])\n",
    "\n",
    "predictions_all = {}\n",
    "\n",
    "cont = 0\n",
    "vote = []\n",
    "values_count = 100\n",
    "while cont < values_count:\n",
    "    data = X.iloc[cont:cont+5]\n",
    "    cont += 5\n",
    "\n",
    "    predictions_all['IForest'] = list(run_iforest(data.copy()))\n",
    "    # predictions_all['Autoencoder1'] = list(run_autoencoder_1(data.copy()))\n",
    "    predictions_all['Autoencoder2'] = list(run_autoencoder_2(data.copy()))\n",
    "    predictions_all['LOF'] = list(run_LOF(data.copy()))\n",
    "    # predictions_all['Classic_Threshold'] = list(run_classic_threshold(data.copy()))\n",
    "    vote += list(majority_vote(predictions_all))\n",
    "    # print(sum(vote))\n",
    "\n",
    "evaluate(df['label'].head(values_count), vote)"
   ]
  },
  {
   "cell_type": "markdown",
   "metadata": {},
   "source": [
    "## Stadistics depending on change %"
   ]
  },
  {
   "cell_type": "code",
   "execution_count": null,
   "metadata": {},
   "outputs": [
    {
     "name": "stdout",
     "output_type": "stream",
     "text": [
      "Error: 2.700228404998779\n",
      "\u001b[1m4/4\u001b[0m \u001b[32m━━━━━━━━━━━━━━━━━━━━\u001b[0m\u001b[37m\u001b[0m \u001b[1m0s\u001b[0m 67ms/step\n",
      "Error: 2.919153261184692\n",
      "\u001b[1m4/4\u001b[0m \u001b[32m━━━━━━━━━━━━━━━━━━━━\u001b[0m\u001b[37m\u001b[0m \u001b[1m1s\u001b[0m 72ms/step\n",
      "Error: 2.7386638736724853\n",
      "\u001b[1m4/4\u001b[0m \u001b[32m━━━━━━━━━━━━━━━━━━━━\u001b[0m\u001b[37m\u001b[0m \u001b[1m0s\u001b[0m 75ms/step\n",
      "Error: 2.83237434387207\n",
      "\u001b[1m4/4\u001b[0m \u001b[32m━━━━━━━━━━━━━━━━━━━━\u001b[0m\u001b[37m\u001b[0m \u001b[1m0s\u001b[0m 68ms/step\n",
      "Error: 2.8424112796783447\n",
      "\u001b[1m4/4\u001b[0m \u001b[32m━━━━━━━━━━━━━━━━━━━━\u001b[0m\u001b[37m\u001b[0m \u001b[1m1s\u001b[0m 76ms/step\n",
      "Error: 2.794999284744262\n",
      "\u001b[1m4/4\u001b[0m \u001b[32m━━━━━━━━━━━━━━━━━━━━\u001b[0m\u001b[37m\u001b[0m \u001b[1m0s\u001b[0m 71ms/step\n",
      "Error: 2.4794340705871583\n",
      "\u001b[1m4/4\u001b[0m \u001b[32m━━━━━━━━━━━━━━━━━━━━\u001b[0m\u001b[37m\u001b[0m \u001b[1m0s\u001b[0m 93ms/step\n",
      "Error: 2.6142411994934083\n",
      "\u001b[1m4/4\u001b[0m \u001b[32m━━━━━━━━━━━━━━━━━━━━\u001b[0m\u001b[37m\u001b[0m \u001b[1m0s\u001b[0m 93ms/step\n",
      "Error: 2.9023388481140135\n",
      "\u001b[1m4/4\u001b[0m \u001b[32m━━━━━━━━━━━━━━━━━━━━\u001b[0m\u001b[37m\u001b[0m \u001b[1m0s\u001b[0m 87ms/step\n",
      "Error: 2.68788969039917\n",
      "\u001b[1m4/4\u001b[0m \u001b[32m━━━━━━━━━━━━━━━━━━━━\u001b[0m\u001b[37m\u001b[0m \u001b[1m0s\u001b[0m 62ms/step\n",
      "Error: 2.9008659172058104\n",
      "\u001b[1m4/4\u001b[0m \u001b[32m━━━━━━━━━━━━━━━━━━━━\u001b[0m\u001b[37m\u001b[0m \u001b[1m0s\u001b[0m 65ms/step\n",
      "Error: 2.8593493270874024\n",
      "\u001b[1m4/4\u001b[0m \u001b[32m━━━━━━━━━━━━━━━━━━━━\u001b[0m\u001b[37m\u001b[0m \u001b[1m0s\u001b[0m 59ms/step\n",
      "Error: 2.8641311359405517\n",
      "\u001b[1m4/4\u001b[0m \u001b[32m━━━━━━━━━━━━━━━━━━━━\u001b[0m\u001b[37m\u001b[0m \u001b[1m0s\u001b[0m 86ms/step\n",
      "Error: 3.2263788795471187\n",
      "\u001b[1m4/4\u001b[0m \u001b[32m━━━━━━━━━━━━━━━━━━━━\u001b[0m\u001b[37m\u001b[0m \u001b[1m0s\u001b[0m 69ms/step\n",
      "Error: 2.8430503940582277\n",
      "\u001b[1m4/4\u001b[0m \u001b[32m━━━━━━━━━━━━━━━━━━━━\u001b[0m\u001b[37m\u001b[0m \u001b[1m0s\u001b[0m 65ms/step\n",
      "Error: 3.0031507205963135\n",
      "\u001b[1m4/4\u001b[0m \u001b[32m━━━━━━━━━━━━━━━━━━━━\u001b[0m\u001b[37m\u001b[0m \u001b[1m0s\u001b[0m 63ms/step\n",
      "Error: 2.508286209106445\n",
      "\u001b[1m4/4\u001b[0m \u001b[32m━━━━━━━━━━━━━━━━━━━━\u001b[0m\u001b[37m\u001b[0m \u001b[1m0s\u001b[0m 63ms/step\n",
      "Error: 3.20114520072937\n",
      "\u001b[1m4/4\u001b[0m \u001b[32m━━━━━━━━━━━━━━━━━━━━\u001b[0m\u001b[37m\u001b[0m \u001b[1m0s\u001b[0m 93ms/step\n",
      "Error: 2.5810065841674805\n",
      "\u001b[1m4/4\u001b[0m \u001b[32m━━━━━━━━━━━━━━━━━━━━\u001b[0m\u001b[37m\u001b[0m \u001b[1m0s\u001b[0m 60ms/step\n",
      "Error: 2.5412842178344723\n",
      "\u001b[1m4/4\u001b[0m \u001b[32m━━━━━━━━━━━━━━━━━━━━\u001b[0m\u001b[37m\u001b[0m \u001b[1m0s\u001b[0m 92ms/step\n",
      "Error: 2.7482593154907224\n",
      "\u001b[1m4/4\u001b[0m \u001b[32m━━━━━━━━━━━━━━━━━━━━\u001b[0m\u001b[37m\u001b[0m \u001b[1m0s\u001b[0m 61ms/step\n",
      "Error: 2.548198003768921\n",
      "\u001b[1m4/4\u001b[0m \u001b[32m━━━━━━━━━━━━━━━━━━━━\u001b[0m\u001b[37m\u001b[0m \u001b[1m0s\u001b[0m 85ms/step\n",
      "Error: 2.8542385387420652\n",
      "\u001b[1m4/4\u001b[0m \u001b[32m━━━━━━━━━━━━━━━━━━━━\u001b[0m\u001b[37m\u001b[0m \u001b[1m0s\u001b[0m 64ms/step\n",
      "Error: 2.883173580169678\n",
      "\u001b[1m4/4\u001b[0m \u001b[32m━━━━━━━━━━━━━━━━━━━━\u001b[0m\u001b[37m\u001b[0m \u001b[1m0s\u001b[0m 60ms/step\n",
      "Error: 2.8785852336883546\n",
      "\u001b[1m4/4\u001b[0m \u001b[32m━━━━━━━━━━━━━━━━━━━━\u001b[0m\u001b[37m\u001b[0m \u001b[1m1s\u001b[0m 74ms/step\n",
      "Error: 2.6777814006805416\n",
      "\u001b[1m4/4\u001b[0m \u001b[32m━━━━━━━━━━━━━━━━━━━━\u001b[0m\u001b[37m\u001b[0m \u001b[1m0s\u001b[0m 62ms/step\n",
      "Error: 2.8274353981018066\n",
      "\u001b[1m4/4\u001b[0m \u001b[32m━━━━━━━━━━━━━━━━━━━━\u001b[0m\u001b[37m\u001b[0m \u001b[1m0s\u001b[0m 68ms/step\n",
      "Error: 2.5513602352142333\n",
      "\u001b[1m4/4\u001b[0m \u001b[32m━━━━━━━━━━━━━━━━━━━━\u001b[0m\u001b[37m\u001b[0m \u001b[1m0s\u001b[0m 65ms/step\n",
      "Error: 2.8010870838165283\n",
      "\u001b[1m4/4\u001b[0m \u001b[32m━━━━━━━━━━━━━━━━━━━━\u001b[0m\u001b[37m\u001b[0m \u001b[1m0s\u001b[0m 64ms/step\n",
      "Error: 2.5114754104614256\n",
      "\u001b[1m4/4\u001b[0m \u001b[32m━━━━━━━━━━━━━━━━━━━━\u001b[0m\u001b[37m\u001b[0m \u001b[1m0s\u001b[0m 63ms/step\n",
      "Error: 3.3059242534637447\n",
      "\u001b[1m4/4\u001b[0m \u001b[32m━━━━━━━━━━━━━━━━━━━━\u001b[0m\u001b[37m\u001b[0m \u001b[1m0s\u001b[0m 61ms/step\n",
      "Error: 3.2240817260742185\n",
      "\u001b[1m4/4\u001b[0m \u001b[32m━━━━━━━━━━━━━━━━━━━━\u001b[0m\u001b[37m\u001b[0m \u001b[1m0s\u001b[0m 59ms/step\n",
      "Error: 2.9269310665130615\n",
      "\u001b[1m4/4\u001b[0m \u001b[32m━━━━━━━━━━━━━━━━━━━━\u001b[0m\u001b[37m\u001b[0m \u001b[1m0s\u001b[0m 87ms/step\n",
      "Error: 2.7029666900634766\n",
      "\u001b[1m4/4\u001b[0m \u001b[32m━━━━━━━━━━━━━━━━━━━━\u001b[0m\u001b[37m\u001b[0m \u001b[1m0s\u001b[0m 68ms/step\n",
      "Error: 2.6227761268615724\n",
      "\u001b[1m4/4\u001b[0m \u001b[32m━━━━━━━━━━━━━━━━━━━━\u001b[0m\u001b[37m\u001b[0m \u001b[1m0s\u001b[0m 63ms/step\n",
      "Error: 2.8822844409942623\n",
      "\u001b[1m4/4\u001b[0m \u001b[32m━━━━━━━━━━━━━━━━━━━━\u001b[0m\u001b[37m\u001b[0m \u001b[1m0s\u001b[0m 80ms/step\n",
      "Error: 2.6169583892822263\n",
      "\u001b[1m4/4\u001b[0m \u001b[32m━━━━━━━━━━━━━━━━━━━━\u001b[0m\u001b[37m\u001b[0m \u001b[1m0s\u001b[0m 85ms/step\n",
      "Error: 3.0353849124908443\n",
      "\u001b[1m4/4\u001b[0m \u001b[32m━━━━━━━━━━━━━━━━━━━━\u001b[0m\u001b[37m\u001b[0m \u001b[1m0s\u001b[0m 67ms/step\n",
      "Error: 3.15280424118042\n",
      "\u001b[1m4/4\u001b[0m \u001b[32m━━━━━━━━━━━━━━━━━━━━\u001b[0m\u001b[37m\u001b[0m \u001b[1m0s\u001b[0m 76ms/step\n",
      "Error: 2.632827234268188\n",
      "\u001b[1m4/4\u001b[0m \u001b[32m━━━━━━━━━━━━━━━━━━━━\u001b[0m\u001b[37m\u001b[0m \u001b[1m0s\u001b[0m 68ms/step\n",
      "Error: 3.221911878585815\n",
      "\u001b[1m4/4\u001b[0m \u001b[32m━━━━━━━━━━━━━━━━━━━━\u001b[0m\u001b[37m\u001b[0m \u001b[1m0s\u001b[0m 68ms/step\n",
      "Error: 2.7724890613555906\n",
      "\u001b[1m4/4\u001b[0m \u001b[32m━━━━━━━━━━━━━━━━━━━━\u001b[0m\u001b[37m\u001b[0m \u001b[1m1s\u001b[0m 95ms/step\n",
      "Error: 2.8828955650329586\n",
      "\u001b[1m4/4\u001b[0m \u001b[32m━━━━━━━━━━━━━━━━━━━━\u001b[0m\u001b[37m\u001b[0m \u001b[1m0s\u001b[0m 60ms/step\n",
      "Error: 3.065162906646728\n",
      "\u001b[1m4/4\u001b[0m \u001b[32m━━━━━━━━━━━━━━━━━━━━\u001b[0m\u001b[37m\u001b[0m \u001b[1m0s\u001b[0m 62ms/step\n",
      "Error: 2.8976225280761714\n",
      "\u001b[1m4/4\u001b[0m \u001b[32m━━━━━━━━━━━━━━━━━━━━\u001b[0m\u001b[37m\u001b[0m \u001b[1m0s\u001b[0m 68ms/step\n",
      "Error: 3.113656730651855\n",
      "\u001b[1m4/4\u001b[0m \u001b[32m━━━━━━━━━━━━━━━━━━━━\u001b[0m\u001b[37m\u001b[0m \u001b[1m0s\u001b[0m 67ms/step\n",
      "Error: 3.2709229660034174\n",
      "\u001b[1m4/4\u001b[0m \u001b[32m━━━━━━━━━━━━━━━━━━━━\u001b[0m\u001b[37m\u001b[0m \u001b[1m0s\u001b[0m 63ms/step\n",
      "Error: 3.0010219478607176\n",
      "\u001b[1m4/4\u001b[0m \u001b[32m━━━━━━━━━━━━━━━━━━━━\u001b[0m\u001b[37m\u001b[0m \u001b[1m0s\u001b[0m 61ms/step\n",
      "Error: 2.550319652557373\n",
      "\u001b[1m4/4\u001b[0m \u001b[32m━━━━━━━━━━━━━━━━━━━━\u001b[0m\u001b[37m\u001b[0m \u001b[1m0s\u001b[0m 60ms/step\n",
      "Error: 2.6863088703155515\n",
      "\u001b[1m4/4\u001b[0m \u001b[32m━━━━━━━━━━━━━━━━━━━━\u001b[0m\u001b[37m\u001b[0m \u001b[1m0s\u001b[0m 61ms/step\n",
      "Error: 2.770742998123169\n",
      "\u001b[1m4/4\u001b[0m \u001b[32m━━━━━━━━━━━━━━━━━━━━\u001b[0m\u001b[37m\u001b[0m \u001b[1m0s\u001b[0m 61ms/step\n",
      "Error: 2.607636203765869\n",
      "\u001b[1m4/4\u001b[0m \u001b[32m━━━━━━━━━━━━━━━━━━━━\u001b[0m\u001b[37m\u001b[0m \u001b[1m0s\u001b[0m 73ms/step\n",
      "Error: 3.1340337944030763\n",
      "\u001b[1m4/4\u001b[0m \u001b[32m━━━━━━━━━━━━━━━━━━━━\u001b[0m\u001b[37m\u001b[0m \u001b[1m1s\u001b[0m 93ms/step\n",
      "Error: 2.909687747955322\n",
      "\u001b[1m4/4\u001b[0m \u001b[32m━━━━━━━━━━━━━━━━━━━━\u001b[0m\u001b[37m\u001b[0m \u001b[1m0s\u001b[0m 65ms/step\n",
      "Error: 2.739532060623169\n",
      "\u001b[1m4/4\u001b[0m \u001b[32m━━━━━━━━━━━━━━━━━━━━\u001b[0m\u001b[37m\u001b[0m \u001b[1m1s\u001b[0m 95ms/step\n",
      "Error: 2.6100238513946534\n",
      "\u001b[1m4/4\u001b[0m \u001b[32m━━━━━━━━━━━━━━━━━━━━\u001b[0m\u001b[37m\u001b[0m \u001b[1m0s\u001b[0m 64ms/step\n",
      "Error: 2.745903263092041\n",
      "\u001b[1m4/4\u001b[0m \u001b[32m━━━━━━━━━━━━━━━━━━━━\u001b[0m\u001b[37m\u001b[0m \u001b[1m0s\u001b[0m 63ms/step\n",
      "Error: 2.3608531475067136\n",
      "\u001b[1m4/4\u001b[0m \u001b[32m━━━━━━━━━━━━━━━━━━━━\u001b[0m\u001b[37m\u001b[0m \u001b[1m0s\u001b[0m 61ms/step\n",
      "Error: 2.591528263092041\n",
      "\u001b[1m4/4\u001b[0m \u001b[32m━━━━━━━━━━━━━━━━━━━━\u001b[0m\u001b[37m\u001b[0m \u001b[1m0s\u001b[0m 64ms/step\n",
      "Error: 2.4470059204101564\n",
      "\u001b[1m4/4\u001b[0m \u001b[32m━━━━━━━━━━━━━━━━━━━━\u001b[0m\u001b[37m\u001b[0m \u001b[1m0s\u001b[0m 61ms/step\n"
     ]
    }
   ],
   "source": [
    "roc_auc_array = []\n",
    "changes = [0.8, 1, 1.5, 2, 2.5, 3]\n",
    "for change in changes:\n",
    "    df = vicomtech_data(pct_cambio = change, pct_filas = 0.03)\n",
    "    X = df.loc[:, df.columns != 'label']\n",
    "    # X.drop(columns=['Longitudinal acceleration', 'Curvature value'])\n",
    "\n",
    "    predictions_all = {}\n",
    "\n",
    "    cont = 0\n",
    "    vote = []\n",
    "    values_count = 100\n",
    "    while cont < values_count:\n",
    "        data = X.iloc[cont:cont+100]\n",
    "        cont += 100\n",
    "\n",
    "        predictions_all['IForest'] = list(run_iforest(data.copy()))\n",
    "        # predictions_all['Autoencoder1'] = list(run_autoencoder_1(data.copy()))\n",
    "        predictions_all['Autoencoder2'] = list(run_autoencoder_2(data.copy()))\n",
    "        predictions_all['LOF'] = list(run_LOF(data.copy()))\n",
    "        # predictions_all['Classic_Threshold'] = list(run_classic_threshold(data.copy()))\n",
    "        vote += list(majority_vote(predictions_all))\n",
    "\n",
    "    roc_auc_array.append(roc_auc_score(df['label'].head(values_count), vote))"
   ]
  },
  {
   "cell_type": "code",
   "execution_count": null,
   "metadata": {},
   "outputs": [
    {
     "data": {
      "image/png": "[encoded data removed]",
      "text/plain": [
       "<Figure size 640x480 with 1 Axes>"
      ]
     },
     "metadata": {},
     "output_type": "display_data"
    }
   ],
   "source": [
    "#Plot\n",
    "# Crear el gráfico\n",
    "plt.plot(changes, roc_auc_array, marker='o')\n",
    "\n",
    "# Etiquetas de los ejes\n",
    "plt.xlabel('Changes')\n",
    "plt.ylabel('ROC AUC')\n",
    "\n",
    "# Título del gráfico\n",
    "plt.title('ROC AUC vs Changes')\n",
    "\n",
    "# Mostrar la cuadrícula\n",
    "plt.grid(True)\n",
    "\n",
    "# Mostrar el gráfico\n",
    "plt.show()\n",
    "\n"
   ]
  },
  {
   "cell_type": "markdown",
   "metadata": {},
   "source": [
    "# Only Speed"
   ]
  },
  {
   "cell_type": "code",
   "execution_count": 83,
   "metadata": {},
   "outputs": [
    {
     "name": "stdout",
     "output_type": "stream",
     "text": [
      "ROC: 0.960511767493287\n"
     ]
    },
    {
     "data": {
      "image/png": "[encoded data removed]",
      "text/plain": [
       "<Figure size 640x480 with 2 Axes>"
      ]
     },
     "metadata": {},
     "output_type": "display_data"
    }
   ],
   "source": [
    "df = vicomtech_data(pct_cambio = 1, pct_filas = 0.03, columns=['Speed (cm/s)'])\n",
    "X = df.loc[:, df.columns != 'label']\n",
    "\n",
    "predictions_all = {}\n",
    "\n",
    "cont = 0\n",
    "vote = []\n",
    "values_count = 1000\n",
    "while cont < values_count:\n",
    "    data = X.iloc[cont:cont+100]\n",
    "    cont += 100\n",
    "\n",
    "    predictions_all['IForest'] = list(run_iforest(data.copy()))\n",
    "    # predictions_all['Autoencoder1'] = list(run_autoencoder_1(data.copy()))\n",
    "    # predictions_all['Autoencoder2'] = list(run_autoencoder_2(data.copy()))\n",
    "    predictions_all['LOF'] = list(run_LOF(data.copy()))\n",
    "    predictions_all['Classic_Threshold'] = list(run_classic_threshold(data.copy()))\n",
    "    vote += list(majority_vote(predictions_all))\n",
    "    # print(sum(vote))\n",
    "\n",
    "evaluate(df['label'].head(values_count), vote)"
   ]
  },
  {
   "cell_type": "markdown",
   "metadata": {},
   "source": [
    "# Individual columns"
   ]
  },
  {
   "cell_type": "code",
   "execution_count": 102,
   "metadata": {},
   "outputs": [],
   "source": [
    "def detect_anomalies_by_columnn(X):\n",
    "    vote_all = {}\n",
    "\n",
    "    for column in df.columns[1:-1]:\n",
    "        print(column)\n",
    "        predictions_all = {}\n",
    "\n",
    "        cont = 0\n",
    "        vote = []\n",
    "        values_count = 1000\n",
    "        while cont < values_count:\n",
    "            data = X[[X.columns[1], column]].iloc[cont:cont+100]\n",
    "            cont += 100\n",
    "\n",
    "            predictions_all['IForest'] = list(run_iforest(data.copy()))\n",
    "            # predictions_all['Autoencoder1'] = list(run_autoencoder_1(data.copy()))\n",
    "            # predictions_all['Autoencoder2'] = list(run_autoencoder_2(data.copy()))\n",
    "            predictions_all['LOF'] = list(run_LOF(data.copy()))\n",
    "            predictions_all['Classic_Threshold'] = list(run_classic_threshold(data.copy()))\n",
    "            vote += list(majority_vote(predictions_all))\n",
    "        vote_all[column] = vote\n",
    "\n",
    "    # Initialize the result with the first array\n",
    "    result = vote_all[next(iter(vote_all))]\n",
    "\n",
    "    # Perform AND operation across all arrays\n",
    "    for array in vote_all.values():\n",
    "        result = [x | y for x, y in zip(result, array)]\n",
    "    \n",
    "    return result\n"
   ]
  },
  {
   "cell_type": "code",
   "execution_count": null,
   "metadata": {},
   "outputs": [],
   "source": [
    "df = vicomtech_data(pct_cambio = .5, pct_filas = 0.03)\n",
    "X = df.loc[:, df.columns != 'label']\n",
    "result = detect_anomalies_by_columnn(X)\n",
    "evaluate(df['label'].head(values_count), result)"
   ]
  },
  {
   "cell_type": "markdown",
   "metadata": {},
   "source": [
    "## Stadisitics depending on change %"
   ]
  },
  {
   "cell_type": "code",
   "execution_count": 116,
   "metadata": {},
   "outputs": [
    {
     "name": "stdout",
     "output_type": "stream",
     "text": [
      "Change 10.0%\n",
      "Generation Delta Time\n",
      "Latitude\n",
      "Longitude\n",
      "Altitude\n",
      "Heading Value\n",
      "Speed (cm/s)\n",
      "Longitudinal acceleration\n",
      "Curvature value\n",
      "Change 30.0%\n",
      "Generation Delta Time\n",
      "Latitude\n",
      "Longitude\n",
      "Altitude\n",
      "Heading Value\n",
      "Speed (cm/s)\n",
      "Longitudinal acceleration\n",
      "Curvature value\n",
      "Change 60.0%\n",
      "Generation Delta Time\n",
      "Latitude\n",
      "Longitude\n",
      "Altitude\n",
      "Heading Value\n",
      "Speed (cm/s)\n",
      "Longitudinal acceleration\n",
      "Curvature value\n",
      "Change 75.0%\n",
      "Generation Delta Time\n",
      "Latitude\n",
      "Longitude\n",
      "Altitude\n",
      "Heading Value\n",
      "Speed (cm/s)\n",
      "Longitudinal acceleration\n",
      "Curvature value\n",
      "Change 100%\n",
      "Generation Delta Time\n",
      "Latitude\n",
      "Longitude\n",
      "Altitude\n",
      "Heading Value\n",
      "Speed (cm/s)\n",
      "Longitudinal acceleration\n",
      "Curvature value\n",
      "Change 200%\n",
      "Generation Delta Time\n",
      "Latitude\n",
      "Longitude\n",
      "Altitude\n",
      "Heading Value\n",
      "Speed (cm/s)\n",
      "Longitudinal acceleration\n",
      "Curvature value\n",
      "Change 250.0%\n",
      "Generation Delta Time\n",
      "Latitude\n",
      "Longitude\n",
      "Altitude\n",
      "Heading Value\n",
      "Speed (cm/s)\n",
      "Longitudinal acceleration\n",
      "Curvature value\n"
     ]
    }
   ],
   "source": [
    "roc_auc_array = []\n",
    "changes = [0.1, 0.3, 0.6, 0.75, 1, 2, 2.5]\n",
    "for change in changes:\n",
    "    print(f'Change {change*100}%')\n",
    "    df = vicomtech_data(pct_cambio = change, pct_filas = 0.03)\n",
    "    X = df.loc[:, df.columns != 'label']\n",
    "    result = detect_anomalies_by_columnn(X)\n",
    "\n",
    "    roc_auc_array.append(roc_auc_score(df['label'].head(values_count), result))"
   ]
  },
  {
   "cell_type": "code",
   "execution_count": 117,
   "metadata": {},
   "outputs": [
    {
     "data": {
      "image/png": "[encoded data removed]",
      "text/plain": [
       "<Figure size 640x480 with 1 Axes>"
      ]
     },
     "metadata": {},
     "output_type": "display_data"
    }
   ],
   "source": [
    "#Plot\n",
    "# Crear el gráfico\n",
    "plt.plot(changes, roc_auc_array, marker='o')\n",
    "\n",
    "# Etiquetas de los ejes\n",
    "plt.xlabel('Changes')\n",
    "plt.ylabel('ROC AUC')\n",
    "\n",
    "plt.ylim(0.5, 1.0)\n",
    "\n",
    "# Título del gráfico\n",
    "plt.title('ROC AUC vs Changes')\n",
    "\n",
    "# Mostrar la cuadrícula\n",
    "plt.grid(True)\n",
    "\n",
    "# Mostrar el gráfico\n",
    "plt.show()\n",
    "\n"
   ]
  },
  {
   "cell_type": "code",
   "execution_count": 140,
   "metadata": {},
   "outputs": [
    {
     "data": {
      "image/png": "[encoded data removed]",
      "text/plain": [
       "<Figure size 1000x500 with 2 Axes>"
      ]
     },
     "metadata": {},
     "output_type": "display_data"
    }
   ],
   "source": [
    "import matplotlib.pyplot as plt\n",
    "import seaborn as sns\n",
    "import numpy as np\n",
    "\n",
    "# Set the style and color palette\n",
    "plt.style.use('seaborn-v0_8-whitegrid')\n",
    "sns.set_palette(\"deep\")\n",
    "\n",
    "# Create figure and axis objects\n",
    "fig, ax = plt.subplots(figsize=(10, 5))\n",
    "\n",
    "# Plot the data with a gradient line\n",
    "num_points = len(changes)\n",
    "for i in range(1, num_points):\n",
    "    ax.plot(changes[i-1:i+1], roc_auc_array[i-1:i+1], \n",
    "            color=plt.cm.viridis(i/num_points), linewidth=2.5, alpha=0.7)\n",
    "\n",
    "# Add scatter points\n",
    "scatter = ax.scatter(changes, roc_auc_array, s=100, c=roc_auc_array, cmap='viridis', \n",
    "                     edgecolor='white', linewidth=1.5, zorder=5)\n",
    "\n",
    "# Customize the plot\n",
    "ax.set_xlabel('Changes', fontsize=14, fontweight='bold')\n",
    "ax.set_ylabel('ROC AUC', fontsize=14, fontweight='bold')\n",
    "ax.set_ylim(0.5, 1.0)\n",
    "ax.set_title('ROC AUC vs Changes', fontsize=18, fontweight='bold', pad=20)\n",
    "\n",
    "# Add a color bar\n",
    "cbar = plt.colorbar(scatter)\n",
    "cbar.set_label('ROC AUC Value', fontsize=12, fontweight='bold')\n",
    "\n",
    "# Customize grid\n",
    "ax.grid(True, linestyle='--', alpha=0.7)\n",
    "\n",
    "# Add annotations for min and max points\n",
    "min_idx = np.argmin(roc_auc_array)\n",
    "max_idx = np.argmax(roc_auc_array)\n",
    "\n",
    "ax.annotate(f'Min: {roc_auc_array[min_idx]:.3f}', \n",
    "            xy=(changes[min_idx], roc_auc_array[min_idx]),\n",
    "            xytext=(10, -10), textcoords='offset points',\n",
    "            ha='left', va='top', fontsize=10, fontweight='bold',\n",
    "            bbox=dict(boxstyle='round,pad=0.5', fc='yellow', alpha=0.5),\n",
    "            arrowprops=dict(arrowstyle='->', connectionstyle='arc3,rad=0'))\n",
    "\n",
    "ax.annotate(f'Max: {roc_auc_array[max_idx]:.3f}', \n",
    "            xy=(changes[max_idx], roc_auc_array[max_idx]),\n",
    "            xytext=(10, 10), textcoords='offset points',\n",
    "            ha='left', va='bottom', fontsize=10, fontweight='bold',\n",
    "            bbox=dict(boxstyle='round,pad=0.5', fc='yellow', alpha=0.5),\n",
    "            arrowprops=dict(arrowstyle='->', connectionstyle='arc3,rad=0'))\n",
    "\n",
    "# Adjust layout and display the plot\n",
    "plt.tight_layout()\n",
    "plt.show()"
   ]
  }
 ],
 "metadata": {
  "kernelspec": {
   "display_name": "Python 3",
   "language": "python",
   "name": "python3"
  },
  "language_info": {
   "codemirror_mode": {
    "name": "ipython",
    "version": 3
   },
   "file_extension": ".py",
   "mimetype": "text/x-python",
   "name": "python",
   "nbconvert_exporter": "python",
   "pygments_lexer": "ipython3",
   "version": "3.12.2"
  }
 },
 "nbformat": 4,
 "nbformat_minor": 2
}
